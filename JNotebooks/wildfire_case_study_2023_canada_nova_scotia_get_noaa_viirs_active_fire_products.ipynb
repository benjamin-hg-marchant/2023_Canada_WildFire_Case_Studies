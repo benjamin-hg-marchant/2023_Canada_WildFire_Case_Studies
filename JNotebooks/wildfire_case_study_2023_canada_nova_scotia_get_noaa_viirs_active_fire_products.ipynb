{
 "cells": [
  {
   "cell_type": "markdown",
   "id": "ee6b38c3",
   "metadata": {},
   "source": [
    "<div style=\"background-color:#3c3d41;padding:30px;border-radius:5px\">\n",
    "\n",
    "<h1 style=\"font-size:22px;color:white;margin-top:0px\">\n",
    "2023 Nova Scotia (Canada) WildFire Case Study: <br>Download NOAA VIIRS Active Fire products from AWS using python\n",
    "</h1>\n",
    "\n",
    "<p style=\"font-size:14px;color:white\">\n",
    "Author: Benjamin Marchant<br>\n",
    "License: CC BY 4.0\n",
    "</p>\n",
    "  \n",
    "</div>"
   ]
  },
  {
   "cell_type": "code",
   "execution_count": 29,
   "id": "97612cfa",
   "metadata": {},
   "outputs": [],
   "source": [
    "import boto3\n",
    "import os\n",
    "\n",
    "from botocore import UNSIGNED\n",
    "from botocore.config import Config\n",
    "from calendar import monthrange\n",
    "from os import path"
   ]
  },
  {
   "cell_type": "markdown",
   "id": "47ad5219",
   "metadata": {},
   "source": [
    "Please provide the directory path where you would like the files to be downloaded:"
   ]
  },
  {
   "cell_type": "code",
   "execution_count": 30,
   "id": "084c2581",
   "metadata": {},
   "outputs": [],
   "source": [
    "local_dir = \"/Volumes/HD2/Datasets/Research/NOAA_AWS\""
   ]
  },
  {
   "cell_type": "markdown",
   "id": "45700c0a",
   "metadata": {},
   "source": [
    "## Downloading NOAA-20 VIIRS"
   ]
  },
  {
   "cell_type": "code",
   "execution_count": 16,
   "id": "f440a3df",
   "metadata": {
    "scrolled": false
   },
   "outputs": [
    {
     "name": "stderr",
     "output_type": "stream",
     "text": [
      "mkdir: /Volumes/HD2/Datasets/Research/NOAA_AWS/NOAA20: File exists\n",
      "mkdir: /Volumes/HD2/Datasets/Research/NOAA_AWS/NOAA20/VIIRS: File exists\n",
      "mkdir: /Volumes/HD2/Datasets/Research/NOAA_AWS/NOAA20/VIIRS/AF_Iband_VIIRS_EDR: File exists\n",
      "mkdir: /Volumes/HD2/Datasets/Research/NOAA_AWS/NOAA20/VIIRS/AF_Iband_VIIRS_EDR/2023: File exists\n"
     ]
    },
    {
     "name": "stdout",
     "output_type": "stream",
     "text": [
      "CPU times: user 33.8 s, sys: 21.6 s, total: 55.4 s\n",
      "Wall time: 11min 31s\n"
     ]
    }
   ],
   "source": [
    "%%time\n",
    "\n",
    "instrument = \"VIIRS\"\n",
    "\n",
    "bucket_name = \"noaa-nesdis-n20-pds\"\n",
    "\n",
    "platforms = [\"NOAA20\"]    #[\"SNPP\"]  [\"NOAA20\"]\n",
    "#products = [\"SNPP_VIIRS_AF_I-Band_EDR_NRT\"]\n",
    "products = [\"AF_Iband_VIIRS_EDR\"]\n",
    "product = \"AF_Iband_VIIRS_EDR\" #\n",
    "\n",
    "year = 2023\n",
    "\n",
    "for platform in platforms:\n",
    "\n",
    "    cmd = 'mkdir {}/{}'.format(local_dir,platform)\n",
    "        \n",
    "    os.system(cmd)\n",
    "    \n",
    "    cmd = 'mkdir {}/{}/{}'.format(local_dir,platform,instrument)\n",
    "        \n",
    "    os.system(cmd)\n",
    "    \n",
    "    for product in products:\n",
    "        \n",
    "        product = product.replace('(','')\n",
    "        product = product.replace(')','')\n",
    "\n",
    "        cmd = 'mkdir {}/{}/{}/{}'.format(local_dir,platform,instrument,product)\n",
    "\n",
    "        os.system(cmd)     \n",
    "        \n",
    "        cmd = 'mkdir {}/{}/{}/{}/{}'.format(local_dir,platform,instrument,product,year)\n",
    "\n",
    "        os.system(cmd)  \n",
    "        \n",
    "months = [5]\n",
    "\n",
    "s3r = boto3.resource('s3', config=Config(signature_version=UNSIGNED))\n",
    "s3c = boto3.client('s3', config=Config(signature_version=UNSIGNED))\n",
    "\n",
    "s3_bucket = s3r.Bucket(bucket_name)\n",
    "\n",
    "for month in months:\n",
    "    \n",
    "    for day in [29,30,31]: #range(1,monthrange(year, month)[1]+1):\n",
    "        \n",
    "        product = products[0]\n",
    "        product_local = products[0]\n",
    "        \n",
    "        product_local = product_local.replace('(','')\n",
    "        product_local = product_local.replace(')','')\n",
    "        \n",
    "        current_date = \"{:04d}_{:02d}_{:02d}\".format(year,month,day)\n",
    "        \n",
    "        output_dir = '{}/{}/{}/{}/{}/{}'.format(local_dir,platform,instrument,product_local,year,current_date)\n",
    "        \n",
    "        cmd = 'mkdir {}'.format(output_dir)\n",
    "\n",
    "        os.system(cmd)  \n",
    "        \n",
    "        #folder = \"{}/{}/{}/{:04d}/{:02d}/{:02d}/\".format(platform,instrument,product,year,month,day)\n",
    "        folder = \"{}/{:04d}/{:02d}/{:02d}/\".format(product,year,month,day)\n",
    "        \n",
    "        files_in_s3 = [f.key.split(folder + \"/\")[0] for f in s3_bucket.objects.filter(Prefix=folder).all()]\n",
    "        \n",
    "        for file in files_in_s3:\n",
    "            \n",
    "            filename = file.split('/')[-1]\n",
    "            \n",
    "            bucket_dir = file.replace(filename,'')\n",
    "            \n",
    "            if not path.exists('{}/{}'.format(output_dir,filename)):\n",
    "\n",
    "                s3c.download_file(Filename=filename,Bucket=bucket_name,Key=bucket_dir + filename)\n",
    "            \n",
    "                cmd = 'mv {} {}/.'.format(filename,output_dir)\n",
    "        \n",
    "                os.system(cmd)"
   ]
  },
  {
   "cell_type": "markdown",
   "id": "a1cc2336",
   "metadata": {},
   "source": [
    "## Downloading SNPP VIIRS"
   ]
  },
  {
   "cell_type": "code",
   "execution_count": 32,
   "id": "37cc83d0",
   "metadata": {},
   "outputs": [
    {
     "name": "stderr",
     "output_type": "stream",
     "text": [
      "mkdir: /Volumes/HD2/Datasets/Research/NOAA_AWS/SNPP: File exists\n",
      "mkdir: /Volumes/HD2/Datasets/Research/NOAA_AWS/SNPP/VIIRS: File exists\n",
      "mkdir: /Volumes/HD2/Datasets/Research/NOAA_AWS/SNPP/VIIRS/AF_Iband_VIIRS_EDR: File exists\n",
      "mkdir: /Volumes/HD2/Datasets/Research/NOAA_AWS/SNPP/VIIRS/AF_Iband_VIIRS_EDR/2023: File exists\n",
      "mkdir: /Volumes/HD2/Datasets/Research/NOAA_AWS/SNPP/VIIRS/AF_Iband_VIIRS_EDR/2023/2023_05_29: File exists\n",
      "mkdir: /Volumes/HD2/Datasets/Research/NOAA_AWS/SNPP/VIIRS/AF_Iband_VIIRS_EDR/2023/2023_05_30: File exists\n",
      "mkdir: /Volumes/HD2/Datasets/Research/NOAA_AWS/SNPP/VIIRS/AF_Iband_VIIRS_EDR/2023/2023_05_31: File exists\n"
     ]
    },
    {
     "name": "stdout",
     "output_type": "stream",
     "text": [
      "CPU times: user 34.2 s, sys: 21.1 s, total: 55.3 s\n",
      "Wall time: 11min 36s\n"
     ]
    }
   ],
   "source": [
    "%%time\n",
    "\n",
    "instrument = \"VIIRS\"\n",
    "\n",
    "bucket_name = \"noaa-nesdis-snpp-pds\"\n",
    "\n",
    "#noaa-nesdis-snpp-pds, noaa-nesdis-n20-pds, noaa-nesdis-n21-pds, noaa-jpss\n",
    "\n",
    "\n",
    "platforms = [\"SNPP\"]   \n",
    "products = [\"AF_Iband_VIIRS_EDR\"]\n",
    "product = \"AF_Iband_VIIRS_EDR\" \n",
    "\n",
    "\n",
    "#product = \n",
    "\n",
    "year = 2023\n",
    "\n",
    "for platform in platforms:\n",
    "\n",
    "    cmd = 'mkdir {}/{}'.format(local_dir,platform)\n",
    "        \n",
    "    os.system(cmd)\n",
    "    \n",
    "    cmd = 'mkdir {}/{}/{}'.format(local_dir,platform,instrument)\n",
    "        \n",
    "    os.system(cmd)\n",
    "    \n",
    "    for product in products:\n",
    "        \n",
    "        product = product.replace('(','')\n",
    "        product = product.replace(')','')\n",
    "\n",
    "        cmd = 'mkdir {}/{}/{}/{}'.format(local_dir,platform,instrument,product)\n",
    "\n",
    "        os.system(cmd)     \n",
    "        \n",
    "        cmd = 'mkdir {}/{}/{}/{}/{}'.format(local_dir,platform,instrument,product,year)\n",
    "\n",
    "        os.system(cmd)  \n",
    "        \n",
    "months = [5]\n",
    "\n",
    "s3r = boto3.resource('s3', config=Config(signature_version=UNSIGNED))\n",
    "s3c = boto3.client('s3', config=Config(signature_version=UNSIGNED))\n",
    "\n",
    "s3_bucket = s3r.Bucket(bucket_name)\n",
    "\n",
    "for month in months:\n",
    "    \n",
    "    for day in [29,30,31]: #range(1,monthrange(year, month)[1]+1):\n",
    "        \n",
    "        product = products[0]\n",
    "        product_local = products[0]\n",
    "        \n",
    "        product_local = product_local.replace('(','')\n",
    "        product_local = product_local.replace(')','')\n",
    "        \n",
    "        current_date = \"{:04d}_{:02d}_{:02d}\".format(year,month,day)\n",
    "        \n",
    "        output_dir = '{}/{}/{}/{}/{}/{}'.format(local_dir,platform,instrument,product_local,year,current_date)\n",
    "        \n",
    "        cmd = 'mkdir {}'.format(output_dir)\n",
    "\n",
    "        os.system(cmd)  \n",
    "        \n",
    "        #folder = \"{}/{}/{}/{:04d}/{:02d}/{:02d}/\".format(platform,instrument,product,year,month,day)\n",
    "        folder = \"{}/{:04d}/{:02d}/{:02d}/\".format(product,year,month,day)\n",
    "        \n",
    "        files_in_s3 = [f.key.split(folder + \"/\")[0] for f in s3_bucket.objects.filter(Prefix=folder).all()]\n",
    "        \n",
    "        for file in files_in_s3:\n",
    "            \n",
    "            filename = file.split('/')[-1]\n",
    "            \n",
    "            bucket_dir = file.replace(filename,'')\n",
    "            \n",
    "            if not path.exists('{}/{}'.format(output_dir,filename)):\n",
    "\n",
    "                s3c.download_file(Filename=filename,Bucket=bucket_name,Key=bucket_dir + filename)\n",
    "            \n",
    "                cmd = 'mv {} {}/.'.format(filename,output_dir)\n",
    "        \n",
    "                os.system(cmd)"
   ]
  }
 ],
 "metadata": {
  "kernelspec": {
   "display_name": "worklab",
   "language": "python",
   "name": "worklab"
  },
  "language_info": {
   "codemirror_mode": {
    "name": "ipython",
    "version": 3
   },
   "file_extension": ".py",
   "mimetype": "text/x-python",
   "name": "python",
   "nbconvert_exporter": "python",
   "pygments_lexer": "ipython3",
   "version": "3.9.12"
  }
 },
 "nbformat": 4,
 "nbformat_minor": 5
}
