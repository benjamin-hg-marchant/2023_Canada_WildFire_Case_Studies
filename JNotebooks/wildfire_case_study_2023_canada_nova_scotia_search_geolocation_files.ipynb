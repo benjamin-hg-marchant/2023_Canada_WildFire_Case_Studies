{
 "cells": [
  {
   "cell_type": "markdown",
   "id": "f360ef01",
   "metadata": {},
   "source": [
    "<div style=\"background-color:#3c3d41;padding:30px;border-radius:5px\">\n",
    "\n",
    "<h1 style=\"font-size:22px;color:white;margin-top:0px\">\n",
    "2023 Nova Scotia (Canada) WildFire Case Study: <br>\n",
    "Search and download geolocation files\n",
    "</h1>\n",
    "\n",
    "<p style=\"font-size:14px;color:white\">\n",
    "Author: Benjamin Marchant<br>\n",
    "License: CC BY 4.0\n",
    "</p>\n",
    "  \n",
    "</div>"
   ]
  },
  {
   "cell_type": "code",
   "execution_count": 2,
   "id": "b2307c3c",
   "metadata": {},
   "outputs": [],
   "source": [
    "import boto3\n",
    "import os\n",
    "import re\n",
    "import datetime\n",
    "import math\n",
    "\n",
    "from botocore import UNSIGNED\n",
    "from botocore.config import Config\n",
    "from calendar import monthrange\n",
    "from os import path"
   ]
  },
  {
   "cell_type": "code",
   "execution_count": 3,
   "id": "a166b862",
   "metadata": {},
   "outputs": [],
   "source": [
    "VIIRS_AF_FileName = 'AF-Iband_v1r1_j01_s202305311658210_e202305311659456_c202305311724431.nc'\n",
    "VIIRS_AF_FileName = 'AF-Iband_v1r1_j01_s202305301718419_e202305301720064_c202305301740165.nc'\n",
    "VIIRS_AF_FileName = 'AF-Iband_v1r1_npp_s202305301628549_e202305301630191_c202305301658291.nc'\n",
    "\n",
    "#VIIRS_AF_FileName = 'AF-Iband_v1r1_n21_s202305301741271_e202305301742518_c202305301808251.nc'"
   ]
  },
  {
   "cell_type": "code",
   "execution_count": 4,
   "id": "ee4a44de",
   "metadata": {},
   "outputs": [
    {
     "name": "stdout",
     "output_type": "stream",
     "text": [
      "2023-05-30 16:28:54\n"
     ]
    }
   ],
   "source": [
    "m = re.search('(.*)_(.*)_(.*)_s(.*)_e(.*)_c(.*).nc', VIIRS_AF_FileName)\n",
    "\n",
    "granule_datetime = m.group(4)\n",
    "\n",
    "granule_year = int( granule_datetime[0:4] )\n",
    "granule_month = int( granule_datetime[4:6] )\n",
    "granule_day = int( granule_datetime[6:8] )\n",
    "\n",
    "granule_hour = int( granule_datetime[8:10] )\n",
    "granule_minute = int( granule_datetime[10:12] )\n",
    "granule_second = int( granule_datetime[12:14] )\n",
    "\n",
    "AF_datetime = datetime.datetime(granule_year, \n",
    "                                granule_month, \n",
    "                                granule_day, \n",
    "                                granule_hour, \n",
    "                                granule_minute,\n",
    "                                granule_second)        \n",
    "\n",
    "print(AF_datetime)"
   ]
  },
  {
   "cell_type": "code",
   "execution_count": 5,
   "id": "ab63db8c",
   "metadata": {},
   "outputs": [],
   "source": [
    "platform = 'NOAA20'\n",
    "platform = 'SNPP'\n",
    "\n",
    "instrument = \"VIIRS\"\n",
    "\n",
    "product = \"NOAA20_VIIRS_I-Band_SDR_TC_GEO_GITCO\"    \n",
    "product = \"VIIRS-IMG-GEO-TC\"\n",
    "\n",
    "year = int(granule_year)\n",
    "month = int(granule_month)\n",
    "day = int(granule_day)"
   ]
  },
  {
   "cell_type": "code",
   "execution_count": 6,
   "id": "66575234",
   "metadata": {},
   "outputs": [],
   "source": [
    "s3 = boto3.resource('s3', config=Config(signature_version=UNSIGNED))\n",
    "\n",
    "bucket_name = \"noaa-jpss\"\n",
    "bucket_name = \"noaa-nesdis-snpp-pds\"\n",
    "bucket_name = \"noaa-nesdis-n21-pds\""
   ]
  },
  {
   "cell_type": "code",
   "execution_count": 7,
   "id": "31cc990f",
   "metadata": {},
   "outputs": [
    {
     "data": {
      "text/plain": [
       "'SNPP/VIIRS/VIIRS-IMG-GEO-TC/2023/05/30/'"
      ]
     },
     "execution_count": 7,
     "metadata": {},
     "output_type": "execute_result"
    }
   ],
   "source": [
    "\"{}/{}/{}/{:04d}/{:02d}/{:02d}/\".format(platform,instrument,product,year,month,day)"
   ]
  },
  {
   "cell_type": "code",
   "execution_count": 8,
   "id": "29e52a00",
   "metadata": {},
   "outputs": [
    {
     "data": {
      "text/plain": [
       "'VIIRS-IMG-GEO-TC/2023/05/30/'"
      ]
     },
     "execution_count": 8,
     "metadata": {},
     "output_type": "execute_result"
    }
   ],
   "source": [
    "folder = \"{}/{:04d}/{:02d}/{:02d}/\".format(product,year,month,day)\n",
    "\n",
    "folder"
   ]
  },
  {
   "cell_type": "code",
   "execution_count": 165,
   "id": "f13873c8",
   "metadata": {},
   "outputs": [],
   "source": [
    "folder = \"{}/{}/{}/{:04d}/{:02d}/{:02d}/\".format(platform,instrument,product,year,month,day)\n",
    "\n",
    "folder = \"{}/{:04d}/{:02d}/{:02d}/\".format(product,year,month,day)\n",
    "\n",
    "s3_bucket = s3.Bucket(bucket_name)\n",
    "\n",
    "files_in_s3 = [f.key.split(folder + \"/\")[0] for f in s3_bucket.objects.filter(Prefix=folder).all()]"
   ]
  },
  {
   "cell_type": "code",
   "execution_count": 166,
   "id": "6e53ffce",
   "metadata": {},
   "outputs": [
    {
     "data": {
      "text/plain": [
       "1013"
      ]
     },
     "execution_count": 166,
     "metadata": {},
     "output_type": "execute_result"
    }
   ],
   "source": [
    "len(files_in_s3)"
   ]
  },
  {
   "cell_type": "code",
   "execution_count": 167,
   "id": "e3db45a1",
   "metadata": {},
   "outputs": [
    {
     "data": {
      "text/plain": [
       "['VIIRS-IMG-GEO-TC/2023/05/30/GITCO_j02_d20230530_t0000174_e0001403_b02847_c20230530001703169412_oeac_ops.h5',\n",
       " 'VIIRS-IMG-GEO-TC/2023/05/30/GITCO_j02_d20230530_t0001416_e0003062_b02847_c20230530001707439275_oeac_ops.h5',\n",
       " 'VIIRS-IMG-GEO-TC/2023/05/30/GITCO_j02_d20230530_t0003075_e0004321_b02847_c20230530001731082801_oeac_ops.h5',\n",
       " 'VIIRS-IMG-GEO-TC/2023/05/30/GITCO_j02_d20230530_t0004334_e0005562_b02847_c20230530001744657321_oeac_ops.h5',\n",
       " 'VIIRS-IMG-GEO-TC/2023/05/30/GITCO_j02_d20230530_t0005575_e0007222_b02847_c20230530002443133327_oeac_ops.h5',\n",
       " 'VIIRS-IMG-GEO-TC/2023/05/30/GITCO_j02_d20230530_t0007234_e0008481_b02847_c20230530003708469736_oeac_ops.h5',\n",
       " 'VIIRS-IMG-GEO-TC/2023/05/30/GITCO_j02_d20230530_t0008493_e0010122_b02847_c20230530003658835766_oeac_ops.h5',\n",
       " 'VIIRS-IMG-GEO-TC/2023/05/30/GITCO_j02_d20230530_t0010134_e0011381_b02847_c20230530003510984930_oeac_ops.h5',\n",
       " 'VIIRS-IMG-GEO-TC/2023/05/30/GITCO_j02_d20230530_t0011393_e0013040_b02847_c20230530003512044584_oeac_ops.h5',\n",
       " 'VIIRS-IMG-GEO-TC/2023/05/30/GITCO_j02_d20230530_t0013052_e0014281_b02847_c20230530003524393947_oeac_ops.h5']"
      ]
     },
     "execution_count": 167,
     "metadata": {},
     "output_type": "execute_result"
    }
   ],
   "source": [
    "files_in_s3[:10]"
   ]
  },
  {
   "cell_type": "code",
   "execution_count": 168,
   "id": "642150b8",
   "metadata": {},
   "outputs": [
    {
     "data": {
      "text/plain": [
       "'GITCO_j02_d20230530_t0000174_e0001403_b02847_c20230530001703169412_oeac_ops.h5'"
      ]
     },
     "execution_count": 168,
     "metadata": {},
     "output_type": "execute_result"
    }
   ],
   "source": [
    "VIIRS_GITCO_FileName = files_in_s3[0].split('/')[-1]\n",
    "\n",
    "VIIRS_GITCO_FileName"
   ]
  },
  {
   "cell_type": "code",
   "execution_count": 169,
   "id": "ca9b9597",
   "metadata": {},
   "outputs": [
    {
     "name": "stdout",
     "output_type": "stream",
     "text": [
      "20230530\n",
      "0000174\n",
      "2023-05-30 00:00:17\n"
     ]
    }
   ],
   "source": [
    "m = re.search('(.*)_(.*)_d(.*)_t(.*)_e(.*)_b(.*)_c(.*)_(.*)_(.*).h5', VIIRS_GITCO_FileName)\n",
    "\n",
    "granule_date = m.group(3)\n",
    "\n",
    "print(granule_date)\n",
    "\n",
    "granule_year = int( granule_date[0:4] )\n",
    "granule_month = int( granule_date[4:6] )\n",
    "granule_day = int( granule_date[6:8] )\n",
    "\n",
    "granule_time = m.group(4)\n",
    "\n",
    "print(granule_time)\n",
    "\n",
    "granule_hour = int( granule_time[0:2] )\n",
    "granule_minute = int( granule_time[2:4] )\n",
    "granule_second = int( granule_time[4:6] )\n",
    "\n",
    "gitco_datetime = datetime.datetime(granule_year, \n",
    "                                   granule_month, \n",
    "                                   granule_day, \n",
    "                                   granule_hour, \n",
    "                                   granule_minute, \n",
    "                                   granule_second)        \n",
    "\n",
    "print(gitco_datetime)"
   ]
  },
  {
   "cell_type": "code",
   "execution_count": 170,
   "id": "fc859b04",
   "metadata": {},
   "outputs": [
    {
     "name": "stdout",
     "output_type": "stream",
     "text": [
      "1061.1666666666667\n"
     ]
    }
   ],
   "source": [
    "delta = AF_datetime - gitco_datetime\n",
    "\n",
    "delta_minutes = delta.total_seconds() / 60.0\n",
    "\n",
    "print(delta_minutes)"
   ]
  },
  {
   "cell_type": "code",
   "execution_count": 171,
   "id": "01b10cef",
   "metadata": {},
   "outputs": [],
   "source": [
    "delta_min = 999.9\n",
    "\n",
    "match_file = ''\n",
    "\n",
    "for file in files_in_s3:\n",
    "\n",
    "    m = re.search('(.*)_(.*)_d(.*)_t(.*)_e(.*)_b(.*)_c(.*)_(.*)_(.*).h5', file)\n",
    "\n",
    "    granule_date = m.group(3)\n",
    "\n",
    "    granule_year = int( granule_date[0:4] )\n",
    "    granule_month = int( granule_date[4:6] )\n",
    "    granule_day = int( granule_date[6:8] )\n",
    "\n",
    "    granule_time = m.group(4)\n",
    "\n",
    "    granule_hour = int( granule_time[0:2] )\n",
    "    granule_minute = int( granule_time[2:4] )\n",
    "    granule_second = int( granule_time[4:6] )\n",
    "\n",
    "    gitco_datetime = datetime.datetime(granule_year, \n",
    "                                       granule_month, \n",
    "                                       granule_day, \n",
    "                                       granule_hour, \n",
    "                                       granule_minute, \n",
    "                                       granule_second)    \n",
    "    \n",
    "    delta = AF_datetime - gitco_datetime\n",
    "\n",
    "    delta_minutes = delta.total_seconds() / 60.0\n",
    "    \n",
    "    if abs(delta_minutes) < delta_min:\n",
    "        \n",
    "        delta_min = abs(delta_minutes)\n",
    "        \n",
    "        match_file = file"
   ]
  },
  {
   "cell_type": "code",
   "execution_count": 172,
   "id": "81605ada",
   "metadata": {},
   "outputs": [
    {
     "data": {
      "text/plain": [
       "0.0"
      ]
     },
     "execution_count": 172,
     "metadata": {},
     "output_type": "execute_result"
    }
   ],
   "source": [
    "delta_min"
   ]
  },
  {
   "cell_type": "code",
   "execution_count": 173,
   "id": "5046389b",
   "metadata": {},
   "outputs": [
    {
     "data": {
      "text/plain": [
       "'VIIRS-IMG-GEO-TC/2023/05/30/GITCO_j02_d20230530_t1741271_e1742518_b02858_c20230530175836490316_oeac_ops.h5'"
      ]
     },
     "execution_count": 173,
     "metadata": {},
     "output_type": "execute_result"
    }
   ],
   "source": [
    "match_file"
   ]
  },
  {
   "cell_type": "code",
   "execution_count": null,
   "id": "99a4ef7a",
   "metadata": {},
   "outputs": [],
   "source": []
  },
  {
   "cell_type": "code",
   "execution_count": 174,
   "id": "b151c656",
   "metadata": {},
   "outputs": [],
   "source": [
    "s3 = boto3.client('s3', config=Config(signature_version=UNSIGNED))\n",
    "\n",
    "filename = match_file.split('/')[-1]\n",
    "\n",
    "s3.download_file(Filename=filename,Bucket=bucket_name,Key=match_file)"
   ]
  },
  {
   "cell_type": "code",
   "execution_count": null,
   "id": "78abb354",
   "metadata": {},
   "outputs": [],
   "source": []
  },
  {
   "cell_type": "code",
   "execution_count": null,
   "id": "c3184458",
   "metadata": {},
   "outputs": [],
   "source": []
  }
 ],
 "metadata": {
  "kernelspec": {
   "display_name": "worklab",
   "language": "python",
   "name": "worklab"
  },
  "language_info": {
   "codemirror_mode": {
    "name": "ipython",
    "version": 3
   },
   "file_extension": ".py",
   "mimetype": "text/x-python",
   "name": "python",
   "nbconvert_exporter": "python",
   "pygments_lexer": "ipython3",
   "version": "3.9.12"
  }
 },
 "nbformat": 4,
 "nbformat_minor": 5
}
